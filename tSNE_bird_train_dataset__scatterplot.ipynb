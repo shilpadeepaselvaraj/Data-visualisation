{
  "nbformat": 4,
  "nbformat_minor": 0,
  "metadata": {
    "colab": {
      "name": "tSNE_bird_train_dataset_ scatterplot.ipynb",
      "provenance": [],
      "collapsed_sections": []
    },
    "kernelspec": {
      "display_name": "Python 3",
      "name": "python3"
    },
    "language_info": {
      "name": "python"
    }
  },
  "cells": [
    {
      "cell_type": "code",
      "metadata": {
        "colab": {
          "base_uri": "https://localhost:8080/"
        },
        "id": "7_8_CYCGf5AP",
        "outputId": "a4387a71-fb46-4d4c-fd53-c07b7264a175"
      },
      "source": [
        "from google.colab import drive\n",
        "drive.mount('/content/drive')"
      ],
      "execution_count": 51,
      "outputs": [
        {
          "output_type": "stream",
          "text": [
            "Drive already mounted at /content/drive; to attempt to forcibly remount, call drive.mount(\"/content/drive\", force_remount=True).\n"
          ],
          "name": "stdout"
        }
      ]
    },
    {
      "cell_type": "code",
      "metadata": {
        "id": "RRUuQ4jRxigC"
      },
      "source": [
        ""
      ],
      "execution_count": null,
      "outputs": []
    },
    {
      "cell_type": "code",
      "metadata": {
        "colab": {
          "base_uri": "https://localhost:8080/"
        },
        "id": "OWbkLvHxf-oB",
        "outputId": "d3c115fc-7ec1-4cdd-918c-44acd382f423"
      },
      "source": [
        "%cd /content/drive/My\\ Drive/dataset/bird song data set"
      ],
      "execution_count": 5,
      "outputs": [
        {
          "output_type": "stream",
          "text": [
            "/content/drive/My Drive/dataset/bird song data set\n"
          ],
          "name": "stdout"
        }
      ]
    },
    {
      "cell_type": "code",
      "metadata": {
        "id": "QB3u7Oqcf_Zz"
      },
      "source": [
        "import pandas as pd\n",
        "import numpy as np\n",
        "import random\n",
        "from sklearn import datasets\n",
        "from scipy.stats import f\n",
        "import matplotlib.pyplot as plt"
      ],
      "execution_count": 6,
      "outputs": []
    },
    {
      "cell_type": "code",
      "metadata": {
        "id": "MPJjO3MBf_iB"
      },
      "source": [
        "df = pd.read_csv(\"bird train.csv\", header=None)"
      ],
      "execution_count": 7,
      "outputs": []
    },
    {
      "cell_type": "code",
      "metadata": {
        "id": "w_67Y526gHEp"
      },
      "source": [
        "df.tail()"
      ],
      "execution_count": null,
      "outputs": []
    },
    {
      "cell_type": "code",
      "metadata": {
        "id": "rTXrSq4LgIKT"
      },
      "source": [
        "def T2Test(X, Y):\n",
        "    nx, p = X.shape\n",
        "    ny, _ = Y.shape\n",
        "\n",
        "    delta = np.mean(X, axis=0) - np.mean(Y, axis=0)\n",
        "    \n",
        "    #calculate covariance\n",
        "    Sx = np.cov(X, rowvar=False)\n",
        "    Sy = np.cov(Y, rowvar=False)\n",
        "    \n",
        "    S_pooled = ((nx-1)*Sx + (ny-1)*Sy)/(nx+ny-2)\n",
        "    \n",
        "    t_squared = (nx*ny)/(nx+ny) * np.matmul(np.matmul(delta.transpose(), np.linalg.inv(S_pooled)), delta)\n",
        "    \n",
        "    statistic = t_squared * (nx+ny-p-1)/(p*(nx+ny-2))\n",
        "    \n",
        "    F = f(p, nx+ny-p-1)\n",
        "    p_value = 1 - F.cdf(statistic)\n",
        "    \n",
        "    #print(f\"Test statistic: {statistic}\\nDegrees of freedom: {p} and {nx+ny-p-1}\\np-value: {p_value}\")\n",
        "    return statistic, p_value"
      ],
      "execution_count": 8,
      "outputs": []
    },
    {
      "cell_type": "markdown",
      "metadata": {
        "id": "3EUy30GtziNC"
      },
      "source": [
        ""
      ]
    },
    {
      "cell_type": "markdown",
      "metadata": {
        "id": "h6YfJxdTzcpM"
      },
      "source": [
        "***********************************************************************************"
      ]
    },
    {
      "cell_type": "markdown",
      "metadata": {
        "id": "8zmlKL9YP6FX"
      },
      "source": [
        "**TSNE DIMENSIONALITY REDUCTION**"
      ]
    },
    {
      "cell_type": "code",
      "metadata": {
        "id": "YA9yaN9OkhkX"
      },
      "source": [
        "import pandas as pd\n"
      ],
      "execution_count": 6,
      "outputs": []
    },
    {
      "cell_type": "code",
      "metadata": {
        "id": "yAi3ycDSSrxP"
      },
      "source": [
        "df = pd.read_csv(\"bird train.csv\", header=None)"
      ],
      "execution_count": 7,
      "outputs": []
    },
    {
      "cell_type": "code",
      "metadata": {
        "colab": {
          "base_uri": "https://localhost:8080/"
        },
        "id": "eSuPdwv6TuJA",
        "outputId": "4b071027-46db-44e5-ff39-54db56b954e9"
      },
      "source": [
        "df.shape"
      ],
      "execution_count": null,
      "outputs": [
        {
          "output_type": "execute_result",
          "data": {
            "text/plain": [
              "(16626, 170)"
            ]
          },
          "metadata": {
            "tags": []
          },
          "execution_count": 24
        }
      ]
    },
    {
      "cell_type": "code",
      "metadata": {
        "id": "E78p1XUCSr-0"
      },
      "source": [
        "target_variable = df[0]\n",
        "features_variable= df.drop(0,axis=1)"
      ],
      "execution_count": null,
      "outputs": []
    },
    {
      "cell_type": "code",
      "metadata": {
        "colab": {
          "base_uri": "https://localhost:8080/"
        },
        "id": "Sd7dmLrPTdMr",
        "outputId": "2225b6f8-bb72-4147-c589-f0b1f9f7273c"
      },
      "source": [
        "features_variable.shape"
      ],
      "execution_count": null,
      "outputs": [
        {
          "output_type": "execute_result",
          "data": {
            "text/plain": [
              "(16626, 169)"
            ]
          },
          "metadata": {
            "tags": []
          },
          "execution_count": 26
        }
      ]
    },
    {
      "cell_type": "code",
      "metadata": {
        "id": "O6whibWwTqRQ"
      },
      "source": [
        "from sklearn.preprocessing import StandardScaler\n",
        "standarized_data = StandardScaler().fit_transform(features_variable)"
      ],
      "execution_count": null,
      "outputs": []
    },
    {
      "cell_type": "code",
      "metadata": {
        "id": "NB2ts8EHUAiY"
      },
      "source": [
        "#standarized_data[0]"
      ],
      "execution_count": null,
      "outputs": []
    },
    {
      "cell_type": "code",
      "metadata": {
        "colab": {
          "background_save": true
        },
        "id": "QE_umwESUF86"
      },
      "source": [
        "from sklearn.manifold import TSNE\n",
        "model = TSNE(n_components=2, random_state=0,perplexity=50, n_iter=5000)\n",
        "tsne_data2 = model.fit_transform(standarized_data)"
      ],
      "execution_count": null,
      "outputs": []
    },
    {
      "cell_type": "code",
      "metadata": {
        "colab": {
          "base_uri": "https://localhost:8080/"
        },
        "id": "JTYEeCwxUGQ4",
        "outputId": "cc7b30ff-3047-4a41-adf5-acec02c4436e"
      },
      "source": [
        "print(standarized_data.shape)\n",
        "print(tsne_data2.shape)"
      ],
      "execution_count": null,
      "outputs": [
        {
          "output_type": "stream",
          "text": [
            "(16626, 169)\n",
            "(16626, 2)\n"
          ],
          "name": "stdout"
        }
      ]
    },
    {
      "cell_type": "code",
      "metadata": {
        "id": "coD6pxQZGKgW"
      },
      "source": [
        "mean_vector_pop = np.mean(tsne_data2)\n",
        "mean_vector_pop"
      ],
      "execution_count": null,
      "outputs": []
    },
    {
      "cell_type": "code",
      "metadata": {
        "id": "2fftXJwIMsRH"
      },
      "source": [
        ""
      ],
      "execution_count": null,
      "outputs": []
    },
    {
      "cell_type": "markdown",
      "metadata": {
        "id": "7Ggkt-EUzyJR"
      },
      "source": [
        "***********************************************************************************************"
      ]
    },
    {
      "cell_type": "markdown",
      "metadata": {
        "id": "fO76S8EY0BCg"
      },
      "source": [
        "** TSNE for a particular sample set**"
      ]
    },
    {
      "cell_type": "code",
      "metadata": {
        "colab": {
          "base_uri": "https://localhost:8080/"
        },
        "id": "sXRfDWc80JGx",
        "outputId": "60e9f719-9c8d-4e6b-b630-c267e7c4c7a8"
      },
      "source": [
        "import numpy as np\n",
        "from sklearn.preprocessing import StandardScaler\n",
        "from sklearn.manifold import TSNE\n",
        "\n",
        "model = TSNE(n_components=2, random_state=0,perplexity=50, n_iter=5000)\n",
        "n = 100\n",
        "size = 500\n",
        "q = []\n",
        "sample_list = []\n",
        "p_values100 = []\n",
        "arr_sampleList = []\n",
        "Features_variable = []\n",
        "Target_variable = []\n",
        "DR_data = []\n",
        "tsne_data = []\n",
        "arr_tsne_data = []\n",
        "SampleVectorMean = []\n",
        "\n",
        "for i in range(n):\n",
        "    p = T2Test(df, df.sample(size))[1]\n",
        "    p_values100.append(p)\n",
        "    q = df.sample(size)\n",
        "    #sample_list.append(q)\n",
        "    arr_sampleList = np.array(q)\n",
        "    Features_variable = arr_sampleList[:, 1:]\n",
        "    Target_variable = arr_sampleList[:,0]\n",
        "    standarized_data = StandardScaler().fit_transform(Features_variable)\n",
        "    tsne_data = model.fit_transform(standarized_data)\n",
        "    arr_tsne_data = np.array(tsne_data)\n",
        "    DR_mean = np.mean(arr_tsne_data)\n",
        "    SampleVectorMean.append(DR_mean)\n",
        "\n",
        "print (SampleVectorMean)\n",
        "print (p_values100)"
      ],
      "execution_count": 9,
      "outputs": [
        {
          "output_type": "stream",
          "text": [
            "[-0.8981266, -0.36837575, -0.34161237, 0.574195, -2.2811465, -0.7456345, -0.11563243, -0.8739149, 0.26114056, 1.2479709, -0.31393415, 0.05054186, -0.31374305, 0.81169266, 0.42881566, 0.18391244, 1.4952353, 0.20232402, -0.41768262, 0.79975486, 0.013548096, -0.31392485, -0.1369147, -0.3652973, 1.8496108, 0.7126414, 0.32899505, 0.38578528, -0.2700159, -0.5838151, 0.51858425, 0.43095377, -0.46600205, -1.1233873, 1.19155, 1.2476397, -0.9123953, -0.08048586, -0.6100168, -0.21214642, 0.39752033, 0.036724433, -1.733702, 1.510701, 0.41355965, -0.2507873, 0.08365082, -0.17640668, 0.76503336, -1.3309641, -1.2103828, -1.4896408, -0.41810206, 0.06782257, 0.20358853, -2.8334901, -0.37293258, 0.13571423, -0.711492, 0.13904877, -0.5891941, -0.15809758, 1.9820669, -0.3620153, -0.3155253, 2.0173428, 1.2168193, -0.58189285, 0.79020375, 0.50034124, -0.5755368, -0.37590426, -3.170441, 0.14648232, -1.0503654, 1.8858243, 1.9315314, -0.2318553, -0.36778522, 1.5197722, -1.0917393, -0.43708807, -0.03851616, -0.36131734, 0.6150416, -0.16095892, 0.16503316, 1.665809, 0.021884842, -1.0616065, 0.8521622, -0.28910595, 0.97174937, 1.6228014, 1.6867478, -1.4939522, -1.2169116, -0.6216832, -1.096498, -0.59816116]\n",
            "[0.6443974692016377, 0.8117531584701146, 0.45619321014089154, 0.9970788521209965, 0.9719896742952895, 0.9007576619047564, 0.9646069753793336, 0.5967890717463076, 0.513750187043295, 0.9067875869861803, 0.7110294341659325, 0.8056111643484334, 0.9148168063031842, 0.96212288421479, 0.7871884337381037, 0.00490834850745292, 0.45154614972386464, 0.8258179284402517, 0.9968026716025805, 0.6175576823412099, 0.4660728019364321, 0.5574094987937881, 0.3151345031925247, 0.8048274261227872, 0.7949617265475099, 0.7426342785339941, 0.6481053337719218, 0.5578847303036484, 0.6051781731356571, 0.9972747874809482, 0.8899620115456697, 0.6636760413100842, 0.6138882933045569, 0.5728537263025905, 0.6319093693671358, 0.6644099109439661, 0.4205548634449099, 0.96943579736071, 0.5066680526048393, 0.7882471075900132, 0.7272147178382622, 0.6537216972251213, 0.9594651213822842, 0.29415451297940964, 0.8040993697561146, 0.8080590824700208, 0.36681082488280436, 0.9355631151927111, 0.6006489016696129, 0.640547513617824, 0.9748987819806517, 0.9587364637512289, 0.2817536237988214, 0.8758745428560306, 0.9500375374919419, 0.8747193071432212, 0.4357127783280512, 0.025759276216686278, 0.8171677023140483, 0.9030803384764916, 0.9045382812067888, 0.9746100520952494, 0.9760464835091082, 0.9679080670797193, 0.15125615748303045, 0.6107904503857486, 0.7331797464556242, 0.9829900615398247, 0.8499982076319879, 0.9439178925948907, 0.5058752780341356, 0.4183193460697895, 0.3242510093962001, 0.4886562991174449, 0.8316879338577553, 0.8017212839853768, 0.7498439954359934, 0.8361311656605321, 0.6020152618157137, 0.6798753291706969, 0.8305864495827788, 0.5753544401684683, 0.44148587080412327, 0.8966893243203703, 0.9941923500646881, 0.9819934162726667, 0.6335617830681961, 0.3771854215756043, 0.8890719711177573, 0.7382514849247022, 0.5784430587282778, 0.6971396934176464, 0.98619988555369, 0.11826131975557308, 0.5078659054287998, 0.43553850998935384, 0.9261812357080373, 0.9950096741762211, 0.533328343949048, 0.7276976052125028]\n"
          ],
          "name": "stdout"
        }
      ]
    },
    {
      "cell_type": "code",
      "metadata": {
        "id": "ZLM5gDnp2ef0"
      },
      "source": [
        "y = pd.DataFrame(SampleVectorMean)"
      ],
      "execution_count": 10,
      "outputs": []
    },
    {
      "cell_type": "code",
      "metadata": {
        "id": "bZrY1nSC2nVO"
      },
      "source": [
        "#y"
      ],
      "execution_count": 75,
      "outputs": []
    },
    {
      "cell_type": "code",
      "metadata": {
        "id": "DDM4mmaA2oXw"
      },
      "source": [
        "x = pd.DataFrame(p_values100)\n",
        "#x"
      ],
      "execution_count": 11,
      "outputs": []
    },
    {
      "cell_type": "code",
      "metadata": {
        "id": "pY8Y-G9A3qZD"
      },
      "source": [
        "sample_tsnedata = pd.concat([y, x], axis=1, join='inner')\n",
        "#sample_tsnedata\n"
      ],
      "execution_count": 12,
      "outputs": []
    },
    {
      "cell_type": "code",
      "metadata": {
        "id": "JJaD652V7tWh"
      },
      "source": [
        "sample_tsnedata.to_csv('data_for_plotting.csv')"
      ],
      "execution_count": 13,
      "outputs": []
    },
    {
      "cell_type": "code",
      "metadata": {
        "id": "zlMvIE4y8Cqo"
      },
      "source": [
        "data_to_plot = pd.read_csv('data_for_plotting.csv')\n",
        "#data_to_plot.head()"
      ],
      "execution_count": 14,
      "outputs": []
    },
    {
      "cell_type": "code",
      "metadata": {
        "id": "2goVFSxLBNxn"
      },
      "source": [
        "c = data_to_plot.rename(columns= {'Unnamed: 0': 'sample_index', '0':'sample_mean_vector', '0.1':'pvalues'}, inplace=False)"
      ],
      "execution_count": 15,
      "outputs": []
    },
    {
      "cell_type": "code",
      "metadata": {
        "id": "S4Vk6GpLJBHD"
      },
      "source": [
        "#c.head(50)"
      ],
      "execution_count": 96,
      "outputs": []
    },
    {
      "cell_type": "code",
      "metadata": {
        "id": "aeoc19H1HVmn"
      },
      "source": [
        "df_final = pd.DataFrame(data_to_plot)"
      ],
      "execution_count": 16,
      "outputs": []
    },
    {
      "cell_type": "code",
      "metadata": {
        "colab": {
          "base_uri": "https://localhost:8080/"
        },
        "id": "xPoK6rQM9Et-",
        "outputId": "876365f0-8239-4ed7-fe14-f426103b5bad"
      },
      "source": [
        "# Generate results as pass or fail\n",
        "results = []\n",
        "\n",
        "for value in c[\"pvalues\"]:\n",
        "    if value >= 0.05:\n",
        "        results.append('pass')\n",
        "    else:\n",
        "        results.append('fail')\n",
        "       \n",
        "c[\"Result\"] = results   \n",
        "print(c)"
      ],
      "execution_count": 17,
      "outputs": [
        {
          "output_type": "stream",
          "text": [
            "    sample_index  sample_mean_vector   pvalues Result\n",
            "0              0           -0.898127  0.644397   pass\n",
            "1              1           -0.368376  0.811753   pass\n",
            "2              2           -0.341612  0.456193   pass\n",
            "3              3            0.574195  0.997079   pass\n",
            "4              4           -2.281147  0.971990   pass\n",
            "..           ...                 ...       ...    ...\n",
            "95            95           -1.493952  0.435539   pass\n",
            "96            96           -1.216912  0.926181   pass\n",
            "97            97           -0.621683  0.995010   pass\n",
            "98            98           -1.096498  0.533328   pass\n",
            "99            99           -0.598161  0.727698   pass\n",
            "\n",
            "[100 rows x 4 columns]\n"
          ],
          "name": "stdout"
        }
      ]
    },
    {
      "cell_type": "code",
      "metadata": {
        "id": "WgH9cctx-udV"
      },
      "source": [
        "data_for_scatterplot = pd.DataFrame(c)"
      ],
      "execution_count": 18,
      "outputs": []
    },
    {
      "cell_type": "code",
      "metadata": {
        "id": "xMrfEX2qouTS"
      },
      "source": [
        "g=data_for_scatterplot.sort_values(by= 'Result')"
      ],
      "execution_count": 19,
      "outputs": []
    },
    {
      "cell_type": "code",
      "metadata": {
        "colab": {
          "base_uri": "https://localhost:8080/",
          "height": 349
        },
        "id": "VtO3CdTxZ1IC",
        "outputId": "976c0223-5132-4f36-c85f-1e5537375016"
      },
      "source": [
        "g.head(10)"
      ],
      "execution_count": 24,
      "outputs": [
        {
          "output_type": "execute_result",
          "data": {
            "text/html": [
              "<div>\n",
              "<style scoped>\n",
              "    .dataframe tbody tr th:only-of-type {\n",
              "        vertical-align: middle;\n",
              "    }\n",
              "\n",
              "    .dataframe tbody tr th {\n",
              "        vertical-align: top;\n",
              "    }\n",
              "\n",
              "    .dataframe thead th {\n",
              "        text-align: right;\n",
              "    }\n",
              "</style>\n",
              "<table border=\"1\" class=\"dataframe\">\n",
              "  <thead>\n",
              "    <tr style=\"text-align: right;\">\n",
              "      <th></th>\n",
              "      <th>sample_index</th>\n",
              "      <th>sample_mean_vector</th>\n",
              "      <th>pvalues</th>\n",
              "      <th>Result</th>\n",
              "    </tr>\n",
              "  </thead>\n",
              "  <tbody>\n",
              "    <tr>\n",
              "      <th>57</th>\n",
              "      <td>57</td>\n",
              "      <td>0.135714</td>\n",
              "      <td>0.025759</td>\n",
              "      <td>fail</td>\n",
              "    </tr>\n",
              "    <tr>\n",
              "      <th>15</th>\n",
              "      <td>15</td>\n",
              "      <td>0.183912</td>\n",
              "      <td>0.004908</td>\n",
              "      <td>fail</td>\n",
              "    </tr>\n",
              "    <tr>\n",
              "      <th>0</th>\n",
              "      <td>0</td>\n",
              "      <td>-0.898127</td>\n",
              "      <td>0.644397</td>\n",
              "      <td>pass</td>\n",
              "    </tr>\n",
              "    <tr>\n",
              "      <th>72</th>\n",
              "      <td>72</td>\n",
              "      <td>-3.170441</td>\n",
              "      <td>0.324251</td>\n",
              "      <td>pass</td>\n",
              "    </tr>\n",
              "    <tr>\n",
              "      <th>71</th>\n",
              "      <td>71</td>\n",
              "      <td>-0.375904</td>\n",
              "      <td>0.418319</td>\n",
              "      <td>pass</td>\n",
              "    </tr>\n",
              "    <tr>\n",
              "      <th>70</th>\n",
              "      <td>70</td>\n",
              "      <td>-0.575537</td>\n",
              "      <td>0.505875</td>\n",
              "      <td>pass</td>\n",
              "    </tr>\n",
              "    <tr>\n",
              "      <th>69</th>\n",
              "      <td>69</td>\n",
              "      <td>0.500341</td>\n",
              "      <td>0.943918</td>\n",
              "      <td>pass</td>\n",
              "    </tr>\n",
              "    <tr>\n",
              "      <th>68</th>\n",
              "      <td>68</td>\n",
              "      <td>0.790204</td>\n",
              "      <td>0.849998</td>\n",
              "      <td>pass</td>\n",
              "    </tr>\n",
              "    <tr>\n",
              "      <th>67</th>\n",
              "      <td>67</td>\n",
              "      <td>-0.581893</td>\n",
              "      <td>0.982990</td>\n",
              "      <td>pass</td>\n",
              "    </tr>\n",
              "    <tr>\n",
              "      <th>66</th>\n",
              "      <td>66</td>\n",
              "      <td>1.216819</td>\n",
              "      <td>0.733180</td>\n",
              "      <td>pass</td>\n",
              "    </tr>\n",
              "  </tbody>\n",
              "</table>\n",
              "</div>"
            ],
            "text/plain": [
              "    sample_index  sample_mean_vector   pvalues Result\n",
              "57            57            0.135714  0.025759   fail\n",
              "15            15            0.183912  0.004908   fail\n",
              "0              0           -0.898127  0.644397   pass\n",
              "72            72           -3.170441  0.324251   pass\n",
              "71            71           -0.375904  0.418319   pass\n",
              "70            70           -0.575537  0.505875   pass\n",
              "69            69            0.500341  0.943918   pass\n",
              "68            68            0.790204  0.849998   pass\n",
              "67            67           -0.581893  0.982990   pass\n",
              "66            66            1.216819  0.733180   pass"
            ]
          },
          "metadata": {
            "tags": []
          },
          "execution_count": 24
        }
      ]
    },
    {
      "cell_type": "code",
      "metadata": {
        "id": "2oBxF0afbVCZ"
      },
      "source": [
        ""
      ],
      "execution_count": null,
      "outputs": []
    },
    {
      "cell_type": "code",
      "metadata": {
        "id": "KST0DpCYbVJC"
      },
      "source": [
        "mean_vector_pop = -1.09"
      ],
      "execution_count": 21,
      "outputs": []
    },
    {
      "cell_type": "code",
      "metadata": {
        "colab": {
          "base_uri": "https://localhost:8080/",
          "height": 295
        },
        "id": "dEi-fRPc6b_W",
        "outputId": "d72eba65-81a1-44c0-ea1b-38ef70302c24"
      },
      "source": [
        "import matplotlib.pyplot as plt\n",
        "\n",
        "\n",
        "x = data_for_scatterplot['sample_mean_vector']\n",
        "y = data_for_scatterplot['sample_index']\n",
        "\n",
        "for SMV in data_for_scatterplot['sample_mean_vector']:\n",
        "  for n, row in data_for_scatterplot.loc[data_for_scatterplot.sample_mean_vector == SMV].iterrows():\n",
        "      if row['Result'] == \"fail\":\n",
        "          plt.scatter(SMV,n,color = 'red')\n",
        "          #plt.pause(0.5)\n",
        "      if row['Result'] == \"pass\":\n",
        "          plt.scatter(SMV,n,color = 'green')\n",
        "          #plt.pause(0.5)\n",
        "plt.scatter(mean_vector_pop,1,color = \"yellow\")\n",
        "plt.xlabel('mean vector')\n",
        "plt.ylabel('sample indexs')\n",
        "plt.title('Data visualisation for sample bin with count=100 size=500')\n",
        "plt.show()"
      ],
      "execution_count": 23,
      "outputs": [
        {
          "output_type": "display_data",
          "data": {
            "image/png": "[encoded data removed]",
            "text/plain": [
              "<Figure size 432x288 with 1 Axes>"
            ]
          },
          "metadata": {
            "tags": [],
            "needs_background": "light"
          }
        }
      ]
    }
  ]
}