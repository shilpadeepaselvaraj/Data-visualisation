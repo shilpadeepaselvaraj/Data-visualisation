{
  "nbformat": 4,
  "nbformat_minor": 0,
  "metadata": {
    "colab": {
      "name": "T square in bird train dataset .ipynb",
      "provenance": [],
      "collapsed_sections": []
    },
    "kernelspec": {
      "display_name": "Python 3",
      "name": "python3"
    },
    "language_info": {
      "name": "python"
    }
  },
  "cells": [
    {
      "cell_type": "code",
      "metadata": {
        "colab": {
          "base_uri": "https://localhost:8080/"
        },
        "id": "7_8_CYCGf5AP",
        "outputId": "4749661b-4c79-4203-a859-905355666478"
      },
      "source": [
        "from google.colab import drive\n",
        "drive.mount('/content/drive')"
      ],
      "execution_count": null,
      "outputs": [
        {
          "output_type": "stream",
          "text": [
            "Mounted at /content/drive\n"
          ],
          "name": "stdout"
        }
      ]
    },
    {
      "cell_type": "code",
      "metadata": {
        "id": "RRUuQ4jRxigC"
      },
      "source": [
        ""
      ],
      "execution_count": null,
      "outputs": []
    },
    {
      "cell_type": "code",
      "metadata": {
        "colab": {
          "base_uri": "https://localhost:8080/"
        },
        "id": "OWbkLvHxf-oB",
        "outputId": "49d58494-a649-44c7-f65a-b2752d25bf47"
      },
      "source": [
        "%cd /content/drive/My\\ Drive/dataset/bird song data set"
      ],
      "execution_count": null,
      "outputs": [
        {
          "output_type": "stream",
          "text": [
            "/content/drive/My Drive/dataset/bird song data set\n"
          ],
          "name": "stdout"
        }
      ]
    },
    {
      "cell_type": "code",
      "metadata": {
        "id": "QB3u7Oqcf_Zz"
      },
      "source": [
        "import pandas as pd\n",
        "import numpy as np\n",
        "import random\n",
        "from sklearn import datasets\n",
        "from scipy.stats import f\n",
        "import matplotlib.pyplot as plt"
      ],
      "execution_count": null,
      "outputs": []
    },
    {
      "cell_type": "code",
      "metadata": {
        "id": "MPJjO3MBf_iB"
      },
      "source": [
        "df = pd.read_csv(\"bird train.csv\", header=None)"
      ],
      "execution_count": null,
      "outputs": []
    },
    {
      "cell_type": "code",
      "metadata": {
        "id": "w_67Y526gHEp"
      },
      "source": [
        "df.tail()"
      ],
      "execution_count": null,
      "outputs": []
    },
    {
      "cell_type": "code",
      "metadata": {
        "id": "rTXrSq4LgIKT"
      },
      "source": [
        "def T2Test(X, Y):\n",
        "    nx, p = X.shape\n",
        "    ny, _ = Y.shape\n",
        "\n",
        "    delta = np.mean(X, axis=0) - np.mean(Y, axis=0)\n",
        "    \n",
        "    #calculate covariance\n",
        "    Sx = np.cov(X, rowvar=False)\n",
        "    Sy = np.cov(Y, rowvar=False)\n",
        "    \n",
        "    S_pooled = ((nx-1)*Sx + (ny-1)*Sy)/(nx+ny-2)\n",
        "    \n",
        "    t_squared = (nx*ny)/(nx+ny) * np.matmul(np.matmul(delta.transpose(), np.linalg.inv(S_pooled)), delta)\n",
        "    \n",
        "    statistic = t_squared * (nx+ny-p-1)/(p*(nx+ny-2))\n",
        "    \n",
        "    F = f(p, nx+ny-p-1)\n",
        "    p_value = 1 - F.cdf(statistic)\n",
        "    \n",
        "    #print(f\"Test statistic: {statistic}\\nDegrees of freedom: {p} and {nx+ny-p-1}\\np-value: {p_value}\")\n",
        "    return statistic, p_value"
      ],
      "execution_count": null,
      "outputs": []
    },
    {
      "cell_type": "code",
      "metadata": {
        "id": "e1-4O7dmgIRR"
      },
      "source": [
        "#case 1 n= 2000 size= 50\n",
        "n = 8000\n",
        "\n",
        "size = 50\n",
        "\n",
        "p_values = []\n",
        "\n",
        "for i in range(n):\n",
        "    p = T2Test(df, df.sample(size))[1]\n",
        "    k = p_values.append(p)"
      ],
      "execution_count": null,
      "outputs": []
    },
    {
      "cell_type": "code",
      "metadata": {
        "colab": {
          "base_uri": "https://localhost:8080/"
        },
        "id": "Gmz9t4kZgIUm",
        "outputId": "740362a9-4ef1-4fd2-c954-55b5ed4d1af2"
      },
      "source": [
        "k = 0.05\n",
        "passed = 0\n",
        "failed = 0\n",
        "for i in p_values :\n",
        "    if i > k :\n",
        "        passed = passed + 1\n",
        "    else:\n",
        "        failed = failed + 1\n",
        "\n",
        "print(\"\\n number of passed in size = 50:\",passed)\n",
        "print(\"\\n number of failed in size = 50:\",failed)"
      ],
      "execution_count": null,
      "outputs": [
        {
          "output_type": "stream",
          "text": [
            "\n",
            " number of passed in size = 50: 8000\n",
            "\n",
            " number of failed in size = 50: 0\n"
          ],
          "name": "stdout"
        }
      ]
    },
    {
      "cell_type": "code",
      "metadata": {
        "id": "aUyLdanXAUQ9"
      },
      "source": [
        ""
      ],
      "execution_count": null,
      "outputs": []
    },
    {
      "cell_type": "code",
      "metadata": {
        "id": "7iscRxZogfCo"
      },
      "source": [
        "#case 2 n= 2000 size= 100\n",
        "n = 2000\n",
        "size = 100\n",
        "\n",
        "p_values100 = []\n",
        "\n",
        "for i in range(n):\n",
        "    p = T2Test(df, df.sample(size))[1]\n",
        "    p_values100.append(p)"
      ],
      "execution_count": null,
      "outputs": []
    },
    {
      "cell_type": "code",
      "metadata": {
        "colab": {
          "base_uri": "https://localhost:8080/"
        },
        "id": "S3ZbWekkgfNR",
        "outputId": "f4520ca8-5ad5-4613-a0fb-fd8b1cbe56b1"
      },
      "source": [
        "k = 0.05\n",
        "passed = 0\n",
        "failed = 0\n",
        "for i in p_values100 :\n",
        "    if i > k :\n",
        "        passed = passed + 1\n",
        "    else:\n",
        "        failed = failed + 1\n",
        "\n",
        "print(\"\\n number of passed in size = 100:\",passed)\n",
        "print(\"\\n number of failed in size = 100:\",failed)"
      ],
      "execution_count": null,
      "outputs": [
        {
          "output_type": "stream",
          "text": [
            "\n",
            " number of passed in size = 100: 1896\n",
            "\n",
            " number of failed in size = 100: 104\n"
          ],
          "name": "stdout"
        }
      ]
    },
    {
      "cell_type": "code",
      "metadata": {
        "id": "e-qq0eg5gfY1"
      },
      "source": [
        "#case 3 n= 2000 size= 250\n",
        "n = 2000\n",
        "\n",
        "size = 250\n",
        "\n",
        "p_values250 = []\n",
        "\n",
        "for i in range(n):\n",
        "    p = T2Test(df, df.sample(size))[1]\n",
        "    p_values250.append(p)"
      ],
      "execution_count": null,
      "outputs": []
    },
    {
      "cell_type": "code",
      "metadata": {
        "colab": {
          "base_uri": "https://localhost:8080/"
        },
        "id": "XgCF0u6ygfmV",
        "outputId": "cf6fb399-dac8-4c0e-dc5e-e91df518c72d"
      },
      "source": [
        "k = 0.05\n",
        "passed = 0\n",
        "failed = 0\n",
        "for i in p_values250 :\n",
        "    if i > k :\n",
        "        passed = passed + 1\n",
        "    else:\n",
        "        failed = failed + 1\n",
        "\n",
        "print(\"\\n number of passed in size = 250:\",passed)\n",
        "print(\"\\n number of failed in size = 250:\",failed)"
      ],
      "execution_count": null,
      "outputs": [
        {
          "output_type": "stream",
          "text": [
            "\n",
            " number of passed in size = 250: 1963\n",
            "\n",
            " number of failed in size = 250: 37\n"
          ],
          "name": "stdout"
        }
      ]
    },
    {
      "cell_type": "code",
      "metadata": {
        "id": "XoYJgZEphJho"
      },
      "source": [
        "#case 4 n= 2000 size= 500\n",
        "n = 2000\n",
        "\n",
        "size = 500\n",
        "\n",
        "p_values500 = []\n",
        "\n",
        "for i in range(n):\n",
        "    p = T2Test(df, df.sample(size))[1]\n",
        "    p_values500.append(p)"
      ],
      "execution_count": null,
      "outputs": []
    },
    {
      "cell_type": "code",
      "metadata": {
        "colab": {
          "base_uri": "https://localhost:8080/"
        },
        "id": "eWPl1hpghJsF",
        "outputId": "468dbf4c-549e-40e2-d157-3c6edfe24732"
      },
      "source": [
        "k = 0.05\n",
        "passed = 0\n",
        "failed = 0\n",
        "for i in p_values500 :\n",
        "    if i > k :\n",
        "        passed = passed + 1\n",
        "    else:\n",
        "        failed = failed + 1\n",
        "\n",
        "print(\"\\n number of passed in size = 500:\",passed)\n",
        "print(\"\\n number of failed in size = 500:\",failed)"
      ],
      "execution_count": null,
      "outputs": [
        {
          "output_type": "stream",
          "text": [
            "\n",
            " number of passed in size = 500: 1981\n",
            "\n",
            " number of failed in size = 500: 19\n"
          ],
          "name": "stdout"
        }
      ]
    },
    {
      "cell_type": "code",
      "metadata": {
        "id": "06yVw64-kMuO"
      },
      "source": [
        "#case 5 n= 2000 size= 1000\n",
        "n = 2000\n",
        "\n",
        "size = 1000\n",
        "\n",
        "p_values1000 = []\n",
        "\n",
        "for i in range(n):\n",
        "    p = T2Test(df, df.sample(size))[1]\n",
        "    p_values1000.append(p)"
      ],
      "execution_count": null,
      "outputs": []
    },
    {
      "cell_type": "code",
      "metadata": {
        "id": "DTOIiC4JkOBS"
      },
      "source": [
        "k = 0.05\n",
        "passed = 0\n",
        "failed = 0\n",
        "for i in p_values1000 :\n",
        "    if i > k :\n",
        "        passed = passed + 1\n",
        "    else:\n",
        "        failed = failed + 1\n",
        "\n",
        "print(\"\\n number of passed in size = 1000:\",passed)\n",
        "print(\"\\n number of failed in size = 1000:\",failed)"
      ],
      "execution_count": null,
      "outputs": []
    },
    {
      "cell_type": "code",
      "metadata": {
        "id": "1IpPhK2FkOTK"
      },
      "source": [
        "#case 6 n= 2000 size= 5000\n",
        "n = 2000\n",
        "\n",
        "size = 5000\n",
        "\n",
        "p_values5000 = []\n",
        "\n",
        "for i in range(n):\n",
        "    p = T2Test(df, df.sample(size))[1]\n",
        "    p_values5000.append(p)"
      ],
      "execution_count": null,
      "outputs": []
    },
    {
      "cell_type": "code",
      "metadata": {
        "id": "AK1OGgqRk-9o"
      },
      "source": [
        "k = 0.05\n",
        "passed = 0\n",
        "failed = 0\n",
        "for i in p_values5000 :\n",
        "    if i > k :\n",
        "        passed = passed + 1\n",
        "    else:\n",
        "        failed = failed + 1\n",
        "\n",
        "print(\"\\n number of passed in size = 5000:\",passed)\n",
        "print(\"\\n number of failed in size = 5000:\",failed)"
      ],
      "execution_count": null,
      "outputs": []
    },
    {
      "cell_type": "code",
      "metadata": {
        "id": "rzlwBf6clKAl"
      },
      "source": [
        "#case 7 n= 2000 size= 10000\n",
        "n = 2000\n",
        "\n",
        "size = 10000\n",
        "\n",
        "p_values10000 = []\n",
        "\n",
        "for i in range(n):\n",
        "    p = T2Test(df, df.sample(size))[1]\n",
        "    p_values10000.append(p)"
      ],
      "execution_count": null,
      "outputs": []
    },
    {
      "cell_type": "code",
      "metadata": {
        "id": "L7bDmojRlMyN"
      },
      "source": [
        "k = 0.05\n",
        "passed = 0\n",
        "failed = 0\n",
        "for i in p_values10000 :\n",
        "    if i > k :\n",
        "        passed = passed + 1\n",
        "    else:\n",
        "        failed = failed + 1\n",
        "\n",
        "print(\"\\n number of passed in size = 10000:\",passed)\n",
        "print(\"\\n number of failed in size = 10000:\",failed)"
      ],
      "execution_count": null,
      "outputs": []
    },
    {
      "cell_type": "code",
      "metadata": {
        "id": "lyAB92VVNi7x"
      },
      "source": [
        "import pandas as pd\n",
        "\n",
        "data = pd.read_csv('t square values.csv')"
      ],
      "execution_count": null,
      "outputs": []
    },
    {
      "cell_type": "code",
      "metadata": {
        "id": "T5JFzae2ObcL"
      },
      "source": [
        "data"
      ],
      "execution_count": null,
      "outputs": []
    },
    {
      "cell_type": "code",
      "metadata": {
        "colab": {
          "base_uri": "https://localhost:8080/",
          "height": 317
        },
        "id": "G0RUtPuZOkyv",
        "outputId": "faf7ddc2-c41e-41cb-baf7-8def1899d6ef"
      },
      "source": [
        " \n",
        "import matplotlib.pyplot as plt\n",
        "import numpy as np\n",
        "  \n",
        "data.plot(x=\"size\", y=[\"passed\", \"failed\"], kind=\"bar\")\n",
        "\n",
        "plt.xlabel('sample size') \n",
        "plt.ylabel('sample count') \n",
        "  \n",
        "# displaying the title\n",
        "plt.title(\"pass-fail plot \")\n",
        "plt.show()"
      ],
      "execution_count": null,
      "outputs": [
        {
          "output_type": "display_data",
          "data": {
            "image/png": "[encoded data removed]",
            "text/plain": [
              "<Figure size 432x288 with 1 Axes>"
            ]
          },
          "metadata": {
            "tags": []
          }
        }
      ]
    }
  ]
}